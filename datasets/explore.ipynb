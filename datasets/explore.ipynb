{
 "cells": [
  {
   "cell_type": "code",
   "execution_count": 1,
   "metadata": {},
   "outputs": [],
   "source": [
    "import pandas as pd\n",
    "import json"
   ]
  },
  {
   "cell_type": "code",
   "execution_count": 3,
   "metadata": {},
   "outputs": [],
   "source": [
    "\n",
    "with open('train-v2.0.json') as f:\n",
    "    data = json.load(f)\n",
    "\n"
   ]
  },
  {
   "cell_type": "code",
   "execution_count": 18,
   "metadata": {},
   "outputs": [],
   "source": [
    "ctx = data[\"data\"][0]['paragraphs'][0]['context']\n",
    "qas = data[\"data\"][0]['paragraphs'][0]['qas']"
   ]
  },
  {
   "cell_type": "code",
   "execution_count": 26,
   "metadata": {},
   "outputs": [
    {
     "data": {
      "text/plain": [
       "'in the late 1990s'"
      ]
     },
     "execution_count": 26,
     "metadata": {},
     "output_type": "execute_result"
    }
   ],
   "source": [
    "ctx[qas[0]['answers'][0]['answer_start']:qas[0]['answers'][0]['answer_start']+len(qas[0]['answers'][0]['text'])]"
   ]
  },
  {
   "cell_type": "code",
   "execution_count": 45,
   "metadata": {},
   "outputs": [
    {
     "data": {
      "text/plain": [
       "{'question': \"What was Frédéric's nationalities?\",\n",
       " 'id': '56cbd2356d243a140015ed66',\n",
       " 'answers': [{'text': 'Polish and French', 'answer_start': 182}],\n",
       " 'is_impossible': False}"
      ]
     },
     "execution_count": 45,
     "metadata": {},
     "output_type": "execute_result"
    }
   ],
   "source": [
    "data[\"data\"][:10][1]['paragraphs'][0]['qas'][0]"
   ]
  },
  {
   "cell_type": "code",
   "execution_count": null,
   "metadata": {},
   "outputs": [],
   "source": []
  },
  {
   "cell_type": "code",
   "execution_count": 59,
   "metadata": {},
   "outputs": [],
   "source": [
    "import pandas as pd\n",
    "import json\n",
    "from pydantic import BaseModel\n",
    "\n",
    "with open('train-v2.0.json') as f:\n",
    "    data = json.load(f)\n",
    "\n",
    "\n",
    "\n",
    "class SquadQA(BaseModel):\n",
    "    question: str\n",
    "    id: str\n",
    "    answers: list[dict]\n",
    "    is_impossible: bool\n",
    "\n",
    "class SquadQAS(BaseModel):\n",
    "    context: str\n",
    "    qas: list[SquadQA]\n",
    "\n",
    "class SquadSample(BaseModel):\n",
    "    title: str\n",
    "    paragraphs: list[SquadQAS]\n",
    "\n",
    "class SquadDataset(BaseModel):\n",
    "    data: list[SquadSample]\n",
    "\n",
    "sd = SquadDataset.parse_obj({\"data\":data[\"data\"][:10]})"
   ]
  },
  {
   "cell_type": "code",
   "execution_count": null,
   "metadata": {},
   "outputs": [],
   "source": []
  },
  {
   "cell_type": "code",
   "execution_count": null,
   "metadata": {},
   "outputs": [],
   "source": []
  },
  {
   "cell_type": "code",
   "execution_count": null,
   "metadata": {},
   "outputs": [],
   "source": []
  },
  {
   "cell_type": "code",
   "execution_count": null,
   "metadata": {},
   "outputs": [],
   "source": []
  }
 ],
 "metadata": {
  "kernelspec": {
   "display_name": "Python 3",
   "language": "python",
   "name": "python3"
  },
  "language_info": {
   "codemirror_mode": {
    "name": "ipython",
    "version": 3
   },
   "file_extension": ".py",
   "mimetype": "text/x-python",
   "name": "python",
   "nbconvert_exporter": "python",
   "pygments_lexer": "ipython3",
   "version": "3.11.4"
  }
 },
 "nbformat": 4,
 "nbformat_minor": 2
}
